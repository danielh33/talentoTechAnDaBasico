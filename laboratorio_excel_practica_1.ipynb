{
  "nbformat": 4,
  "nbformat_minor": 0,
  "metadata": {
    "colab": {
      "provenance": [],
      "include_colab_link": true
    },
    "kernelspec": {
      "name": "python3",
      "display_name": "Python 3"
    }
  },
  "cells": [
    {
      "cell_type": "markdown",
      "metadata": {
        "id": "view-in-github",
        "colab_type": "text"
      },
      "source": [
        "<a href=\"https://colab.research.google.com/github/danielh33/talentoTechAnDaBasico/blob/main/laboratorio_excel_practica_1.ipynb\" target=\"_parent\"><img src=\"https://colab.research.google.com/assets/colab-badge.svg\" alt=\"Open In Colab\"/></a>"
      ]
    },
    {
      "cell_type": "markdown",
      "source": [
        "#**Analisis de datos básico Laboratorio Excel. Practica 1**#\n",
        "\n",
        "Primeros pasos de analisis de datos de básico usando como insumo un archivo excel.\n",
        "\n",
        "1. Importar las librerias requeridas\n",
        "2. Tener archivo almacenado en carpeta de Google Drive\n",
        "3. Establecer la conexión con la carpeta.\n",
        "4. Revisar la conexiónco la carpeta"
      ],
      "metadata": {
        "id": "1hmknR-42JRT"
      }
    },
    {
      "cell_type": "markdown",
      "source": [
        "---\n",
        "# Ingreso de nuevos datos"
      ],
      "metadata": {
        "id": "G6R0aEZU3Hkd"
      }
    },
    {
      "cell_type": "markdown",
      "source": [
        "Se solicita permiso y se monta la unidad de Google Drive para leer los archivos insumo"
      ],
      "metadata": {
        "id": "ZWvVi1YS4RTp"
      }
    },
    {
      "cell_type": "code",
      "source": [
        "from google.colab import drive # Traemos la clase drive, dentro del módulo colab, del paquete google\n",
        "drive.mount('/content/drive') # Establecemos la conexión através del método mount"
      ],
      "metadata": {
        "id": "bbrLKHb-SU43",
        "colab": {
          "base_uri": "https://localhost:8080/"
        },
        "outputId": "e07f80fd-b0d6-4826-e744-cf344619c174"
      },
      "execution_count": 1,
      "outputs": [
        {
          "output_type": "stream",
          "name": "stdout",
          "text": [
            "Mounted at /content/drive\n"
          ]
        }
      ]
    },
    {
      "cell_type": "markdown",
      "source": [
        "Se importa libreria PANDAS."
      ],
      "metadata": {
        "id": "zd_WdzaWStGG"
      }
    },
    {
      "cell_type": "code",
      "source": [
        "import pandas as pd # importar librería PANDAS"
      ],
      "metadata": {
        "id": "yIAc85yJSrgI"
      },
      "execution_count": 2,
      "outputs": []
    },
    {
      "cell_type": "markdown",
      "source": [
        "---\n",
        "# Creación y lectura de DataFrames\n",
        "\n",
        "\n",
        "\n",
        "*   pd.DataFrame(data) Crea un DataFrame\n",
        "*   Elemento de la lista\n",
        "\n"
      ],
      "metadata": {
        "id": "ULZjqEyJ92-N"
      }
    },
    {
      "cell_type": "markdown",
      "source": [
        "Se ubica el archivo Excel para el analisis de los datos, se hace lectura del archivo Excel y se imprimen los primeros registros."
      ],
      "metadata": {
        "id": "2_z9tXFC9mgg"
      }
    },
    {
      "cell_type": "code",
      "source": [
        "# Ruta de almacenamiento del archivo Excel\n",
        "path = '/content/drive/MyDrive/TALENTO_TECH_ANALISIS_DATOS_BASICO/practica1/Ventas.xlsx'\n",
        "\n",
        "df = pd.read_excel(path)"
      ],
      "metadata": {
        "id": "eVnlqFL69gh2"
      },
      "execution_count": 3,
      "outputs": []
    },
    {
      "cell_type": "markdown",
      "source": [
        "#Visualización y exploración de los datos#"
      ],
      "metadata": {
        "id": "ZOeqc7PsYzYC"
      }
    },
    {
      "cell_type": "code",
      "source": [
        "# Primeros datos del arreglo\n",
        "df.head(10)"
      ],
      "metadata": {
        "id": "gT2OQ-xgY70h",
        "colab": {
          "base_uri": "https://localhost:8080/",
          "height": 363
        },
        "outputId": "ad4f6c74-9a6d-48d8-d2bf-c2828a3effff"
      },
      "execution_count": 4,
      "outputs": [
        {
          "output_type": "execute_result",
          "data": {
            "text/plain": [
              "    Region      Producto Vendedor  Ventas\n",
              "0  Central    Accesorios    David    8287\n",
              "1  Central    Accesorios    Karen    6909\n",
              "2  Central  Dispositivos    David   11420\n",
              "3  Central  Dispositivos    Karen   12948\n",
              "4  Central      Sistemas    David   20098\n",
              "5  Central      Sistemas    Karen   30633\n",
              "6     Este    Accesorios      Ana    9323\n",
              "7     Este    Accesorios    Lucas    7667\n",
              "8     Este  Dispositivos      Ana   10348\n",
              "9     Este  Dispositivos    Lucas    9312"
            ],
            "text/html": [
              "\n",
              "  <div id=\"df-0f435a93-e1a3-4f4c-94a8-47105e57ff9c\" class=\"colab-df-container\">\n",
              "    <div>\n",
              "<style scoped>\n",
              "    .dataframe tbody tr th:only-of-type {\n",
              "        vertical-align: middle;\n",
              "    }\n",
              "\n",
              "    .dataframe tbody tr th {\n",
              "        vertical-align: top;\n",
              "    }\n",
              "\n",
              "    .dataframe thead th {\n",
              "        text-align: right;\n",
              "    }\n",
              "</style>\n",
              "<table border=\"1\" class=\"dataframe\">\n",
              "  <thead>\n",
              "    <tr style=\"text-align: right;\">\n",
              "      <th></th>\n",
              "      <th>Region</th>\n",
              "      <th>Producto</th>\n",
              "      <th>Vendedor</th>\n",
              "      <th>Ventas</th>\n",
              "    </tr>\n",
              "  </thead>\n",
              "  <tbody>\n",
              "    <tr>\n",
              "      <th>0</th>\n",
              "      <td>Central</td>\n",
              "      <td>Accesorios</td>\n",
              "      <td>David</td>\n",
              "      <td>8287</td>\n",
              "    </tr>\n",
              "    <tr>\n",
              "      <th>1</th>\n",
              "      <td>Central</td>\n",
              "      <td>Accesorios</td>\n",
              "      <td>Karen</td>\n",
              "      <td>6909</td>\n",
              "    </tr>\n",
              "    <tr>\n",
              "      <th>2</th>\n",
              "      <td>Central</td>\n",
              "      <td>Dispositivos</td>\n",
              "      <td>David</td>\n",
              "      <td>11420</td>\n",
              "    </tr>\n",
              "    <tr>\n",
              "      <th>3</th>\n",
              "      <td>Central</td>\n",
              "      <td>Dispositivos</td>\n",
              "      <td>Karen</td>\n",
              "      <td>12948</td>\n",
              "    </tr>\n",
              "    <tr>\n",
              "      <th>4</th>\n",
              "      <td>Central</td>\n",
              "      <td>Sistemas</td>\n",
              "      <td>David</td>\n",
              "      <td>20098</td>\n",
              "    </tr>\n",
              "    <tr>\n",
              "      <th>5</th>\n",
              "      <td>Central</td>\n",
              "      <td>Sistemas</td>\n",
              "      <td>Karen</td>\n",
              "      <td>30633</td>\n",
              "    </tr>\n",
              "    <tr>\n",
              "      <th>6</th>\n",
              "      <td>Este</td>\n",
              "      <td>Accesorios</td>\n",
              "      <td>Ana</td>\n",
              "      <td>9323</td>\n",
              "    </tr>\n",
              "    <tr>\n",
              "      <th>7</th>\n",
              "      <td>Este</td>\n",
              "      <td>Accesorios</td>\n",
              "      <td>Lucas</td>\n",
              "      <td>7667</td>\n",
              "    </tr>\n",
              "    <tr>\n",
              "      <th>8</th>\n",
              "      <td>Este</td>\n",
              "      <td>Dispositivos</td>\n",
              "      <td>Ana</td>\n",
              "      <td>10348</td>\n",
              "    </tr>\n",
              "    <tr>\n",
              "      <th>9</th>\n",
              "      <td>Este</td>\n",
              "      <td>Dispositivos</td>\n",
              "      <td>Lucas</td>\n",
              "      <td>9312</td>\n",
              "    </tr>\n",
              "  </tbody>\n",
              "</table>\n",
              "</div>\n",
              "    <div class=\"colab-df-buttons\">\n",
              "\n",
              "  <div class=\"colab-df-container\">\n",
              "    <button class=\"colab-df-convert\" onclick=\"convertToInteractive('df-0f435a93-e1a3-4f4c-94a8-47105e57ff9c')\"\n",
              "            title=\"Convert this dataframe to an interactive table.\"\n",
              "            style=\"display:none;\">\n",
              "\n",
              "  <svg xmlns=\"http://www.w3.org/2000/svg\" height=\"24px\" viewBox=\"0 -960 960 960\">\n",
              "    <path d=\"M120-120v-720h720v720H120Zm60-500h600v-160H180v160Zm220 220h160v-160H400v160Zm0 220h160v-160H400v160ZM180-400h160v-160H180v160Zm440 0h160v-160H620v160ZM180-180h160v-160H180v160Zm440 0h160v-160H620v160Z\"/>\n",
              "  </svg>\n",
              "    </button>\n",
              "\n",
              "  <style>\n",
              "    .colab-df-container {\n",
              "      display:flex;\n",
              "      gap: 12px;\n",
              "    }\n",
              "\n",
              "    .colab-df-convert {\n",
              "      background-color: #E8F0FE;\n",
              "      border: none;\n",
              "      border-radius: 50%;\n",
              "      cursor: pointer;\n",
              "      display: none;\n",
              "      fill: #1967D2;\n",
              "      height: 32px;\n",
              "      padding: 0 0 0 0;\n",
              "      width: 32px;\n",
              "    }\n",
              "\n",
              "    .colab-df-convert:hover {\n",
              "      background-color: #E2EBFA;\n",
              "      box-shadow: 0px 1px 2px rgba(60, 64, 67, 0.3), 0px 1px 3px 1px rgba(60, 64, 67, 0.15);\n",
              "      fill: #174EA6;\n",
              "    }\n",
              "\n",
              "    .colab-df-buttons div {\n",
              "      margin-bottom: 4px;\n",
              "    }\n",
              "\n",
              "    [theme=dark] .colab-df-convert {\n",
              "      background-color: #3B4455;\n",
              "      fill: #D2E3FC;\n",
              "    }\n",
              "\n",
              "    [theme=dark] .colab-df-convert:hover {\n",
              "      background-color: #434B5C;\n",
              "      box-shadow: 0px 1px 3px 1px rgba(0, 0, 0, 0.15);\n",
              "      filter: drop-shadow(0px 1px 2px rgba(0, 0, 0, 0.3));\n",
              "      fill: #FFFFFF;\n",
              "    }\n",
              "  </style>\n",
              "\n",
              "    <script>\n",
              "      const buttonEl =\n",
              "        document.querySelector('#df-0f435a93-e1a3-4f4c-94a8-47105e57ff9c button.colab-df-convert');\n",
              "      buttonEl.style.display =\n",
              "        google.colab.kernel.accessAllowed ? 'block' : 'none';\n",
              "\n",
              "      async function convertToInteractive(key) {\n",
              "        const element = document.querySelector('#df-0f435a93-e1a3-4f4c-94a8-47105e57ff9c');\n",
              "        const dataTable =\n",
              "          await google.colab.kernel.invokeFunction('convertToInteractive',\n",
              "                                                    [key], {});\n",
              "        if (!dataTable) return;\n",
              "\n",
              "        const docLinkHtml = 'Like what you see? Visit the ' +\n",
              "          '<a target=\"_blank\" href=https://colab.research.google.com/notebooks/data_table.ipynb>data table notebook</a>'\n",
              "          + ' to learn more about interactive tables.';\n",
              "        element.innerHTML = '';\n",
              "        dataTable['output_type'] = 'display_data';\n",
              "        await google.colab.output.renderOutput(dataTable, element);\n",
              "        const docLink = document.createElement('div');\n",
              "        docLink.innerHTML = docLinkHtml;\n",
              "        element.appendChild(docLink);\n",
              "      }\n",
              "    </script>\n",
              "  </div>\n",
              "\n",
              "\n",
              "<div id=\"df-c78dfda5-5339-4671-9da5-55fc7577ae31\">\n",
              "  <button class=\"colab-df-quickchart\" onclick=\"quickchart('df-c78dfda5-5339-4671-9da5-55fc7577ae31')\"\n",
              "            title=\"Suggest charts\"\n",
              "            style=\"display:none;\">\n",
              "\n",
              "<svg xmlns=\"http://www.w3.org/2000/svg\" height=\"24px\"viewBox=\"0 0 24 24\"\n",
              "     width=\"24px\">\n",
              "    <g>\n",
              "        <path d=\"M19 3H5c-1.1 0-2 .9-2 2v14c0 1.1.9 2 2 2h14c1.1 0 2-.9 2-2V5c0-1.1-.9-2-2-2zM9 17H7v-7h2v7zm4 0h-2V7h2v10zm4 0h-2v-4h2v4z\"/>\n",
              "    </g>\n",
              "</svg>\n",
              "  </button>\n",
              "\n",
              "<style>\n",
              "  .colab-df-quickchart {\n",
              "      --bg-color: #E8F0FE;\n",
              "      --fill-color: #1967D2;\n",
              "      --hover-bg-color: #E2EBFA;\n",
              "      --hover-fill-color: #174EA6;\n",
              "      --disabled-fill-color: #AAA;\n",
              "      --disabled-bg-color: #DDD;\n",
              "  }\n",
              "\n",
              "  [theme=dark] .colab-df-quickchart {\n",
              "      --bg-color: #3B4455;\n",
              "      --fill-color: #D2E3FC;\n",
              "      --hover-bg-color: #434B5C;\n",
              "      --hover-fill-color: #FFFFFF;\n",
              "      --disabled-bg-color: #3B4455;\n",
              "      --disabled-fill-color: #666;\n",
              "  }\n",
              "\n",
              "  .colab-df-quickchart {\n",
              "    background-color: var(--bg-color);\n",
              "    border: none;\n",
              "    border-radius: 50%;\n",
              "    cursor: pointer;\n",
              "    display: none;\n",
              "    fill: var(--fill-color);\n",
              "    height: 32px;\n",
              "    padding: 0;\n",
              "    width: 32px;\n",
              "  }\n",
              "\n",
              "  .colab-df-quickchart:hover {\n",
              "    background-color: var(--hover-bg-color);\n",
              "    box-shadow: 0 1px 2px rgba(60, 64, 67, 0.3), 0 1px 3px 1px rgba(60, 64, 67, 0.15);\n",
              "    fill: var(--button-hover-fill-color);\n",
              "  }\n",
              "\n",
              "  .colab-df-quickchart-complete:disabled,\n",
              "  .colab-df-quickchart-complete:disabled:hover {\n",
              "    background-color: var(--disabled-bg-color);\n",
              "    fill: var(--disabled-fill-color);\n",
              "    box-shadow: none;\n",
              "  }\n",
              "\n",
              "  .colab-df-spinner {\n",
              "    border: 2px solid var(--fill-color);\n",
              "    border-color: transparent;\n",
              "    border-bottom-color: var(--fill-color);\n",
              "    animation:\n",
              "      spin 1s steps(1) infinite;\n",
              "  }\n",
              "\n",
              "  @keyframes spin {\n",
              "    0% {\n",
              "      border-color: transparent;\n",
              "      border-bottom-color: var(--fill-color);\n",
              "      border-left-color: var(--fill-color);\n",
              "    }\n",
              "    20% {\n",
              "      border-color: transparent;\n",
              "      border-left-color: var(--fill-color);\n",
              "      border-top-color: var(--fill-color);\n",
              "    }\n",
              "    30% {\n",
              "      border-color: transparent;\n",
              "      border-left-color: var(--fill-color);\n",
              "      border-top-color: var(--fill-color);\n",
              "      border-right-color: var(--fill-color);\n",
              "    }\n",
              "    40% {\n",
              "      border-color: transparent;\n",
              "      border-right-color: var(--fill-color);\n",
              "      border-top-color: var(--fill-color);\n",
              "    }\n",
              "    60% {\n",
              "      border-color: transparent;\n",
              "      border-right-color: var(--fill-color);\n",
              "    }\n",
              "    80% {\n",
              "      border-color: transparent;\n",
              "      border-right-color: var(--fill-color);\n",
              "      border-bottom-color: var(--fill-color);\n",
              "    }\n",
              "    90% {\n",
              "      border-color: transparent;\n",
              "      border-bottom-color: var(--fill-color);\n",
              "    }\n",
              "  }\n",
              "</style>\n",
              "\n",
              "  <script>\n",
              "    async function quickchart(key) {\n",
              "      const quickchartButtonEl =\n",
              "        document.querySelector('#' + key + ' button');\n",
              "      quickchartButtonEl.disabled = true;  // To prevent multiple clicks.\n",
              "      quickchartButtonEl.classList.add('colab-df-spinner');\n",
              "      try {\n",
              "        const charts = await google.colab.kernel.invokeFunction(\n",
              "            'suggestCharts', [key], {});\n",
              "      } catch (error) {\n",
              "        console.error('Error during call to suggestCharts:', error);\n",
              "      }\n",
              "      quickchartButtonEl.classList.remove('colab-df-spinner');\n",
              "      quickchartButtonEl.classList.add('colab-df-quickchart-complete');\n",
              "    }\n",
              "    (() => {\n",
              "      let quickchartButtonEl =\n",
              "        document.querySelector('#df-c78dfda5-5339-4671-9da5-55fc7577ae31 button');\n",
              "      quickchartButtonEl.style.display =\n",
              "        google.colab.kernel.accessAllowed ? 'block' : 'none';\n",
              "    })();\n",
              "  </script>\n",
              "</div>\n",
              "\n",
              "    </div>\n",
              "  </div>\n"
            ],
            "application/vnd.google.colaboratory.intrinsic+json": {
              "type": "dataframe",
              "variable_name": "df",
              "summary": "{\n  \"name\": \"df\",\n  \"rows\": 18,\n  \"fields\": [\n    {\n      \"column\": \"Region\",\n      \"properties\": {\n        \"dtype\": \"category\",\n        \"samples\": [\n          \"Central\",\n          \"Este\",\n          \"Oeste\"\n        ],\n        \"num_unique_values\": 3,\n        \"semantic_type\": \"\",\n        \"description\": \"\"\n      }\n    },\n    {\n      \"column\": \"Producto\",\n      \"properties\": {\n        \"dtype\": \"category\",\n        \"samples\": [\n          \"Accesorios\",\n          \"Dispositivos\",\n          \"Sistemas\"\n        ],\n        \"num_unique_values\": 3,\n        \"semantic_type\": \"\",\n        \"description\": \"\"\n      }\n    },\n    {\n      \"column\": \"Vendedor\",\n      \"properties\": {\n        \"dtype\": \"category\",\n        \"samples\": [\n          \"David\",\n          \"Karen\",\n          \"Sara\"\n        ],\n        \"num_unique_values\": 6,\n        \"semantic_type\": \"\",\n        \"description\": \"\"\n      }\n    },\n    {\n      \"column\": \"Ventas\",\n      \"properties\": {\n        \"dtype\": \"number\",\n        \"std\": 8153,\n        \"min\": 4744,\n        \"max\": 32855,\n        \"samples\": [\n          8287,\n          6909,\n          10348\n        ],\n        \"num_unique_values\": 18,\n        \"semantic_type\": \"\",\n        \"description\": \"\"\n      }\n    }\n  ]\n}"
            }
          },
          "metadata": {},
          "execution_count": 4
        }
      ]
    },
    {
      "cell_type": "code",
      "source": [
        "# últimos datos del arreglo\n",
        "df.tail(5)"
      ],
      "metadata": {
        "colab": {
          "base_uri": "https://localhost:8080/",
          "height": 206
        },
        "id": "ycxim96jPmwa",
        "outputId": "a50fcb45-80c1-44f2-cfa4-93b186cf46ec"
      },
      "execution_count": 5,
      "outputs": [
        {
          "output_type": "execute_result",
          "data": {
            "text/plain": [
              "   Region      Producto Vendedor  Ventas\n",
              "13  Oeste    Accesorios     Sara    5442\n",
              "14  Oeste  Dispositivos    Kevin   10711\n",
              "15  Oeste  Dispositivos     Sara    8780\n",
              "16  Oeste      Sistemas    Kevin   32855\n",
              "17  Oeste      Sistemas     Sara   23151"
            ],
            "text/html": [
              "\n",
              "  <div id=\"df-fb437511-2027-4dc0-9be2-4def1b6902d9\" class=\"colab-df-container\">\n",
              "    <div>\n",
              "<style scoped>\n",
              "    .dataframe tbody tr th:only-of-type {\n",
              "        vertical-align: middle;\n",
              "    }\n",
              "\n",
              "    .dataframe tbody tr th {\n",
              "        vertical-align: top;\n",
              "    }\n",
              "\n",
              "    .dataframe thead th {\n",
              "        text-align: right;\n",
              "    }\n",
              "</style>\n",
              "<table border=\"1\" class=\"dataframe\">\n",
              "  <thead>\n",
              "    <tr style=\"text-align: right;\">\n",
              "      <th></th>\n",
              "      <th>Region</th>\n",
              "      <th>Producto</th>\n",
              "      <th>Vendedor</th>\n",
              "      <th>Ventas</th>\n",
              "    </tr>\n",
              "  </thead>\n",
              "  <tbody>\n",
              "    <tr>\n",
              "      <th>13</th>\n",
              "      <td>Oeste</td>\n",
              "      <td>Accesorios</td>\n",
              "      <td>Sara</td>\n",
              "      <td>5442</td>\n",
              "    </tr>\n",
              "    <tr>\n",
              "      <th>14</th>\n",
              "      <td>Oeste</td>\n",
              "      <td>Dispositivos</td>\n",
              "      <td>Kevin</td>\n",
              "      <td>10711</td>\n",
              "    </tr>\n",
              "    <tr>\n",
              "      <th>15</th>\n",
              "      <td>Oeste</td>\n",
              "      <td>Dispositivos</td>\n",
              "      <td>Sara</td>\n",
              "      <td>8780</td>\n",
              "    </tr>\n",
              "    <tr>\n",
              "      <th>16</th>\n",
              "      <td>Oeste</td>\n",
              "      <td>Sistemas</td>\n",
              "      <td>Kevin</td>\n",
              "      <td>32855</td>\n",
              "    </tr>\n",
              "    <tr>\n",
              "      <th>17</th>\n",
              "      <td>Oeste</td>\n",
              "      <td>Sistemas</td>\n",
              "      <td>Sara</td>\n",
              "      <td>23151</td>\n",
              "    </tr>\n",
              "  </tbody>\n",
              "</table>\n",
              "</div>\n",
              "    <div class=\"colab-df-buttons\">\n",
              "\n",
              "  <div class=\"colab-df-container\">\n",
              "    <button class=\"colab-df-convert\" onclick=\"convertToInteractive('df-fb437511-2027-4dc0-9be2-4def1b6902d9')\"\n",
              "            title=\"Convert this dataframe to an interactive table.\"\n",
              "            style=\"display:none;\">\n",
              "\n",
              "  <svg xmlns=\"http://www.w3.org/2000/svg\" height=\"24px\" viewBox=\"0 -960 960 960\">\n",
              "    <path d=\"M120-120v-720h720v720H120Zm60-500h600v-160H180v160Zm220 220h160v-160H400v160Zm0 220h160v-160H400v160ZM180-400h160v-160H180v160Zm440 0h160v-160H620v160ZM180-180h160v-160H180v160Zm440 0h160v-160H620v160Z\"/>\n",
              "  </svg>\n",
              "    </button>\n",
              "\n",
              "  <style>\n",
              "    .colab-df-container {\n",
              "      display:flex;\n",
              "      gap: 12px;\n",
              "    }\n",
              "\n",
              "    .colab-df-convert {\n",
              "      background-color: #E8F0FE;\n",
              "      border: none;\n",
              "      border-radius: 50%;\n",
              "      cursor: pointer;\n",
              "      display: none;\n",
              "      fill: #1967D2;\n",
              "      height: 32px;\n",
              "      padding: 0 0 0 0;\n",
              "      width: 32px;\n",
              "    }\n",
              "\n",
              "    .colab-df-convert:hover {\n",
              "      background-color: #E2EBFA;\n",
              "      box-shadow: 0px 1px 2px rgba(60, 64, 67, 0.3), 0px 1px 3px 1px rgba(60, 64, 67, 0.15);\n",
              "      fill: #174EA6;\n",
              "    }\n",
              "\n",
              "    .colab-df-buttons div {\n",
              "      margin-bottom: 4px;\n",
              "    }\n",
              "\n",
              "    [theme=dark] .colab-df-convert {\n",
              "      background-color: #3B4455;\n",
              "      fill: #D2E3FC;\n",
              "    }\n",
              "\n",
              "    [theme=dark] .colab-df-convert:hover {\n",
              "      background-color: #434B5C;\n",
              "      box-shadow: 0px 1px 3px 1px rgba(0, 0, 0, 0.15);\n",
              "      filter: drop-shadow(0px 1px 2px rgba(0, 0, 0, 0.3));\n",
              "      fill: #FFFFFF;\n",
              "    }\n",
              "  </style>\n",
              "\n",
              "    <script>\n",
              "      const buttonEl =\n",
              "        document.querySelector('#df-fb437511-2027-4dc0-9be2-4def1b6902d9 button.colab-df-convert');\n",
              "      buttonEl.style.display =\n",
              "        google.colab.kernel.accessAllowed ? 'block' : 'none';\n",
              "\n",
              "      async function convertToInteractive(key) {\n",
              "        const element = document.querySelector('#df-fb437511-2027-4dc0-9be2-4def1b6902d9');\n",
              "        const dataTable =\n",
              "          await google.colab.kernel.invokeFunction('convertToInteractive',\n",
              "                                                    [key], {});\n",
              "        if (!dataTable) return;\n",
              "\n",
              "        const docLinkHtml = 'Like what you see? Visit the ' +\n",
              "          '<a target=\"_blank\" href=https://colab.research.google.com/notebooks/data_table.ipynb>data table notebook</a>'\n",
              "          + ' to learn more about interactive tables.';\n",
              "        element.innerHTML = '';\n",
              "        dataTable['output_type'] = 'display_data';\n",
              "        await google.colab.output.renderOutput(dataTable, element);\n",
              "        const docLink = document.createElement('div');\n",
              "        docLink.innerHTML = docLinkHtml;\n",
              "        element.appendChild(docLink);\n",
              "      }\n",
              "    </script>\n",
              "  </div>\n",
              "\n",
              "\n",
              "<div id=\"df-98229602-85e9-422e-9928-6f59ffcbdd30\">\n",
              "  <button class=\"colab-df-quickchart\" onclick=\"quickchart('df-98229602-85e9-422e-9928-6f59ffcbdd30')\"\n",
              "            title=\"Suggest charts\"\n",
              "            style=\"display:none;\">\n",
              "\n",
              "<svg xmlns=\"http://www.w3.org/2000/svg\" height=\"24px\"viewBox=\"0 0 24 24\"\n",
              "     width=\"24px\">\n",
              "    <g>\n",
              "        <path d=\"M19 3H5c-1.1 0-2 .9-2 2v14c0 1.1.9 2 2 2h14c1.1 0 2-.9 2-2V5c0-1.1-.9-2-2-2zM9 17H7v-7h2v7zm4 0h-2V7h2v10zm4 0h-2v-4h2v4z\"/>\n",
              "    </g>\n",
              "</svg>\n",
              "  </button>\n",
              "\n",
              "<style>\n",
              "  .colab-df-quickchart {\n",
              "      --bg-color: #E8F0FE;\n",
              "      --fill-color: #1967D2;\n",
              "      --hover-bg-color: #E2EBFA;\n",
              "      --hover-fill-color: #174EA6;\n",
              "      --disabled-fill-color: #AAA;\n",
              "      --disabled-bg-color: #DDD;\n",
              "  }\n",
              "\n",
              "  [theme=dark] .colab-df-quickchart {\n",
              "      --bg-color: #3B4455;\n",
              "      --fill-color: #D2E3FC;\n",
              "      --hover-bg-color: #434B5C;\n",
              "      --hover-fill-color: #FFFFFF;\n",
              "      --disabled-bg-color: #3B4455;\n",
              "      --disabled-fill-color: #666;\n",
              "  }\n",
              "\n",
              "  .colab-df-quickchart {\n",
              "    background-color: var(--bg-color);\n",
              "    border: none;\n",
              "    border-radius: 50%;\n",
              "    cursor: pointer;\n",
              "    display: none;\n",
              "    fill: var(--fill-color);\n",
              "    height: 32px;\n",
              "    padding: 0;\n",
              "    width: 32px;\n",
              "  }\n",
              "\n",
              "  .colab-df-quickchart:hover {\n",
              "    background-color: var(--hover-bg-color);\n",
              "    box-shadow: 0 1px 2px rgba(60, 64, 67, 0.3), 0 1px 3px 1px rgba(60, 64, 67, 0.15);\n",
              "    fill: var(--button-hover-fill-color);\n",
              "  }\n",
              "\n",
              "  .colab-df-quickchart-complete:disabled,\n",
              "  .colab-df-quickchart-complete:disabled:hover {\n",
              "    background-color: var(--disabled-bg-color);\n",
              "    fill: var(--disabled-fill-color);\n",
              "    box-shadow: none;\n",
              "  }\n",
              "\n",
              "  .colab-df-spinner {\n",
              "    border: 2px solid var(--fill-color);\n",
              "    border-color: transparent;\n",
              "    border-bottom-color: var(--fill-color);\n",
              "    animation:\n",
              "      spin 1s steps(1) infinite;\n",
              "  }\n",
              "\n",
              "  @keyframes spin {\n",
              "    0% {\n",
              "      border-color: transparent;\n",
              "      border-bottom-color: var(--fill-color);\n",
              "      border-left-color: var(--fill-color);\n",
              "    }\n",
              "    20% {\n",
              "      border-color: transparent;\n",
              "      border-left-color: var(--fill-color);\n",
              "      border-top-color: var(--fill-color);\n",
              "    }\n",
              "    30% {\n",
              "      border-color: transparent;\n",
              "      border-left-color: var(--fill-color);\n",
              "      border-top-color: var(--fill-color);\n",
              "      border-right-color: var(--fill-color);\n",
              "    }\n",
              "    40% {\n",
              "      border-color: transparent;\n",
              "      border-right-color: var(--fill-color);\n",
              "      border-top-color: var(--fill-color);\n",
              "    }\n",
              "    60% {\n",
              "      border-color: transparent;\n",
              "      border-right-color: var(--fill-color);\n",
              "    }\n",
              "    80% {\n",
              "      border-color: transparent;\n",
              "      border-right-color: var(--fill-color);\n",
              "      border-bottom-color: var(--fill-color);\n",
              "    }\n",
              "    90% {\n",
              "      border-color: transparent;\n",
              "      border-bottom-color: var(--fill-color);\n",
              "    }\n",
              "  }\n",
              "</style>\n",
              "\n",
              "  <script>\n",
              "    async function quickchart(key) {\n",
              "      const quickchartButtonEl =\n",
              "        document.querySelector('#' + key + ' button');\n",
              "      quickchartButtonEl.disabled = true;  // To prevent multiple clicks.\n",
              "      quickchartButtonEl.classList.add('colab-df-spinner');\n",
              "      try {\n",
              "        const charts = await google.colab.kernel.invokeFunction(\n",
              "            'suggestCharts', [key], {});\n",
              "      } catch (error) {\n",
              "        console.error('Error during call to suggestCharts:', error);\n",
              "      }\n",
              "      quickchartButtonEl.classList.remove('colab-df-spinner');\n",
              "      quickchartButtonEl.classList.add('colab-df-quickchart-complete');\n",
              "    }\n",
              "    (() => {\n",
              "      let quickchartButtonEl =\n",
              "        document.querySelector('#df-98229602-85e9-422e-9928-6f59ffcbdd30 button');\n",
              "      quickchartButtonEl.style.display =\n",
              "        google.colab.kernel.accessAllowed ? 'block' : 'none';\n",
              "    })();\n",
              "  </script>\n",
              "</div>\n",
              "\n",
              "    </div>\n",
              "  </div>\n"
            ],
            "application/vnd.google.colaboratory.intrinsic+json": {
              "type": "dataframe",
              "summary": "{\n  \"name\": \"df\",\n  \"rows\": 5,\n  \"fields\": [\n    {\n      \"column\": \"Region\",\n      \"properties\": {\n        \"dtype\": \"category\",\n        \"samples\": [\n          \"Oeste\"\n        ],\n        \"num_unique_values\": 1,\n        \"semantic_type\": \"\",\n        \"description\": \"\"\n      }\n    },\n    {\n      \"column\": \"Producto\",\n      \"properties\": {\n        \"dtype\": \"string\",\n        \"samples\": [\n          \"Accesorios\"\n        ],\n        \"num_unique_values\": 3,\n        \"semantic_type\": \"\",\n        \"description\": \"\"\n      }\n    },\n    {\n      \"column\": \"Vendedor\",\n      \"properties\": {\n        \"dtype\": \"category\",\n        \"samples\": [\n          \"Kevin\"\n        ],\n        \"num_unique_values\": 2,\n        \"semantic_type\": \"\",\n        \"description\": \"\"\n      }\n    },\n    {\n      \"column\": \"Ventas\",\n      \"properties\": {\n        \"dtype\": \"number\",\n        \"std\": 11474,\n        \"min\": 5442,\n        \"max\": 32855,\n        \"samples\": [\n          10711\n        ],\n        \"num_unique_values\": 5,\n        \"semantic_type\": \"\",\n        \"description\": \"\"\n      }\n    }\n  ]\n}"
            }
          },
          "metadata": {},
          "execution_count": 5
        }
      ]
    },
    {
      "cell_type": "code",
      "source": [
        "df.info()"
      ],
      "metadata": {
        "colab": {
          "base_uri": "https://localhost:8080/"
        },
        "id": "kCXWlWs3P-or",
        "outputId": "66d4cc3d-6056-4081-9a5b-be74700f6845"
      },
      "execution_count": 6,
      "outputs": [
        {
          "output_type": "stream",
          "name": "stdout",
          "text": [
            "<class 'pandas.core.frame.DataFrame'>\n",
            "RangeIndex: 18 entries, 0 to 17\n",
            "Data columns (total 4 columns):\n",
            " #   Column    Non-Null Count  Dtype \n",
            "---  ------    --------------  ----- \n",
            " 0   Region    18 non-null     object\n",
            " 1   Producto  18 non-null     object\n",
            " 2   Vendedor  18 non-null     object\n",
            " 3   Ventas    18 non-null     int64 \n",
            "dtypes: int64(1), object(3)\n",
            "memory usage: 704.0+ bytes\n"
          ]
        }
      ]
    },
    {
      "cell_type": "code",
      "source": [
        "df.describe()"
      ],
      "metadata": {
        "colab": {
          "base_uri": "https://localhost:8080/",
          "height": 300
        },
        "id": "lKaXUNQ-Qyxx",
        "outputId": "91ac2960-1c5a-4713-f856-04cfaea965f8"
      },
      "execution_count": 7,
      "outputs": [
        {
          "output_type": "execute_result",
          "data": {
            "text/plain": [
              "             Ventas\n",
              "count     18.000000\n",
              "mean   13307.388889\n",
              "std     8153.055776\n",
              "min     4744.000000\n",
              "25%     8410.250000\n",
              "50%    10529.500000\n",
              "75%    13491.750000\n",
              "max    32855.000000"
            ],
            "text/html": [
              "\n",
              "  <div id=\"df-8e1ccbb2-4dc8-47ba-b481-95549ab8f2eb\" class=\"colab-df-container\">\n",
              "    <div>\n",
              "<style scoped>\n",
              "    .dataframe tbody tr th:only-of-type {\n",
              "        vertical-align: middle;\n",
              "    }\n",
              "\n",
              "    .dataframe tbody tr th {\n",
              "        vertical-align: top;\n",
              "    }\n",
              "\n",
              "    .dataframe thead th {\n",
              "        text-align: right;\n",
              "    }\n",
              "</style>\n",
              "<table border=\"1\" class=\"dataframe\">\n",
              "  <thead>\n",
              "    <tr style=\"text-align: right;\">\n",
              "      <th></th>\n",
              "      <th>Ventas</th>\n",
              "    </tr>\n",
              "  </thead>\n",
              "  <tbody>\n",
              "    <tr>\n",
              "      <th>count</th>\n",
              "      <td>18.000000</td>\n",
              "    </tr>\n",
              "    <tr>\n",
              "      <th>mean</th>\n",
              "      <td>13307.388889</td>\n",
              "    </tr>\n",
              "    <tr>\n",
              "      <th>std</th>\n",
              "      <td>8153.055776</td>\n",
              "    </tr>\n",
              "    <tr>\n",
              "      <th>min</th>\n",
              "      <td>4744.000000</td>\n",
              "    </tr>\n",
              "    <tr>\n",
              "      <th>25%</th>\n",
              "      <td>8410.250000</td>\n",
              "    </tr>\n",
              "    <tr>\n",
              "      <th>50%</th>\n",
              "      <td>10529.500000</td>\n",
              "    </tr>\n",
              "    <tr>\n",
              "      <th>75%</th>\n",
              "      <td>13491.750000</td>\n",
              "    </tr>\n",
              "    <tr>\n",
              "      <th>max</th>\n",
              "      <td>32855.000000</td>\n",
              "    </tr>\n",
              "  </tbody>\n",
              "</table>\n",
              "</div>\n",
              "    <div class=\"colab-df-buttons\">\n",
              "\n",
              "  <div class=\"colab-df-container\">\n",
              "    <button class=\"colab-df-convert\" onclick=\"convertToInteractive('df-8e1ccbb2-4dc8-47ba-b481-95549ab8f2eb')\"\n",
              "            title=\"Convert this dataframe to an interactive table.\"\n",
              "            style=\"display:none;\">\n",
              "\n",
              "  <svg xmlns=\"http://www.w3.org/2000/svg\" height=\"24px\" viewBox=\"0 -960 960 960\">\n",
              "    <path d=\"M120-120v-720h720v720H120Zm60-500h600v-160H180v160Zm220 220h160v-160H400v160Zm0 220h160v-160H400v160ZM180-400h160v-160H180v160Zm440 0h160v-160H620v160ZM180-180h160v-160H180v160Zm440 0h160v-160H620v160Z\"/>\n",
              "  </svg>\n",
              "    </button>\n",
              "\n",
              "  <style>\n",
              "    .colab-df-container {\n",
              "      display:flex;\n",
              "      gap: 12px;\n",
              "    }\n",
              "\n",
              "    .colab-df-convert {\n",
              "      background-color: #E8F0FE;\n",
              "      border: none;\n",
              "      border-radius: 50%;\n",
              "      cursor: pointer;\n",
              "      display: none;\n",
              "      fill: #1967D2;\n",
              "      height: 32px;\n",
              "      padding: 0 0 0 0;\n",
              "      width: 32px;\n",
              "    }\n",
              "\n",
              "    .colab-df-convert:hover {\n",
              "      background-color: #E2EBFA;\n",
              "      box-shadow: 0px 1px 2px rgba(60, 64, 67, 0.3), 0px 1px 3px 1px rgba(60, 64, 67, 0.15);\n",
              "      fill: #174EA6;\n",
              "    }\n",
              "\n",
              "    .colab-df-buttons div {\n",
              "      margin-bottom: 4px;\n",
              "    }\n",
              "\n",
              "    [theme=dark] .colab-df-convert {\n",
              "      background-color: #3B4455;\n",
              "      fill: #D2E3FC;\n",
              "    }\n",
              "\n",
              "    [theme=dark] .colab-df-convert:hover {\n",
              "      background-color: #434B5C;\n",
              "      box-shadow: 0px 1px 3px 1px rgba(0, 0, 0, 0.15);\n",
              "      filter: drop-shadow(0px 1px 2px rgba(0, 0, 0, 0.3));\n",
              "      fill: #FFFFFF;\n",
              "    }\n",
              "  </style>\n",
              "\n",
              "    <script>\n",
              "      const buttonEl =\n",
              "        document.querySelector('#df-8e1ccbb2-4dc8-47ba-b481-95549ab8f2eb button.colab-df-convert');\n",
              "      buttonEl.style.display =\n",
              "        google.colab.kernel.accessAllowed ? 'block' : 'none';\n",
              "\n",
              "      async function convertToInteractive(key) {\n",
              "        const element = document.querySelector('#df-8e1ccbb2-4dc8-47ba-b481-95549ab8f2eb');\n",
              "        const dataTable =\n",
              "          await google.colab.kernel.invokeFunction('convertToInteractive',\n",
              "                                                    [key], {});\n",
              "        if (!dataTable) return;\n",
              "\n",
              "        const docLinkHtml = 'Like what you see? Visit the ' +\n",
              "          '<a target=\"_blank\" href=https://colab.research.google.com/notebooks/data_table.ipynb>data table notebook</a>'\n",
              "          + ' to learn more about interactive tables.';\n",
              "        element.innerHTML = '';\n",
              "        dataTable['output_type'] = 'display_data';\n",
              "        await google.colab.output.renderOutput(dataTable, element);\n",
              "        const docLink = document.createElement('div');\n",
              "        docLink.innerHTML = docLinkHtml;\n",
              "        element.appendChild(docLink);\n",
              "      }\n",
              "    </script>\n",
              "  </div>\n",
              "\n",
              "\n",
              "<div id=\"df-2b013dba-c8a8-4dc5-8e82-253920d5489d\">\n",
              "  <button class=\"colab-df-quickchart\" onclick=\"quickchart('df-2b013dba-c8a8-4dc5-8e82-253920d5489d')\"\n",
              "            title=\"Suggest charts\"\n",
              "            style=\"display:none;\">\n",
              "\n",
              "<svg xmlns=\"http://www.w3.org/2000/svg\" height=\"24px\"viewBox=\"0 0 24 24\"\n",
              "     width=\"24px\">\n",
              "    <g>\n",
              "        <path d=\"M19 3H5c-1.1 0-2 .9-2 2v14c0 1.1.9 2 2 2h14c1.1 0 2-.9 2-2V5c0-1.1-.9-2-2-2zM9 17H7v-7h2v7zm4 0h-2V7h2v10zm4 0h-2v-4h2v4z\"/>\n",
              "    </g>\n",
              "</svg>\n",
              "  </button>\n",
              "\n",
              "<style>\n",
              "  .colab-df-quickchart {\n",
              "      --bg-color: #E8F0FE;\n",
              "      --fill-color: #1967D2;\n",
              "      --hover-bg-color: #E2EBFA;\n",
              "      --hover-fill-color: #174EA6;\n",
              "      --disabled-fill-color: #AAA;\n",
              "      --disabled-bg-color: #DDD;\n",
              "  }\n",
              "\n",
              "  [theme=dark] .colab-df-quickchart {\n",
              "      --bg-color: #3B4455;\n",
              "      --fill-color: #D2E3FC;\n",
              "      --hover-bg-color: #434B5C;\n",
              "      --hover-fill-color: #FFFFFF;\n",
              "      --disabled-bg-color: #3B4455;\n",
              "      --disabled-fill-color: #666;\n",
              "  }\n",
              "\n",
              "  .colab-df-quickchart {\n",
              "    background-color: var(--bg-color);\n",
              "    border: none;\n",
              "    border-radius: 50%;\n",
              "    cursor: pointer;\n",
              "    display: none;\n",
              "    fill: var(--fill-color);\n",
              "    height: 32px;\n",
              "    padding: 0;\n",
              "    width: 32px;\n",
              "  }\n",
              "\n",
              "  .colab-df-quickchart:hover {\n",
              "    background-color: var(--hover-bg-color);\n",
              "    box-shadow: 0 1px 2px rgba(60, 64, 67, 0.3), 0 1px 3px 1px rgba(60, 64, 67, 0.15);\n",
              "    fill: var(--button-hover-fill-color);\n",
              "  }\n",
              "\n",
              "  .colab-df-quickchart-complete:disabled,\n",
              "  .colab-df-quickchart-complete:disabled:hover {\n",
              "    background-color: var(--disabled-bg-color);\n",
              "    fill: var(--disabled-fill-color);\n",
              "    box-shadow: none;\n",
              "  }\n",
              "\n",
              "  .colab-df-spinner {\n",
              "    border: 2px solid var(--fill-color);\n",
              "    border-color: transparent;\n",
              "    border-bottom-color: var(--fill-color);\n",
              "    animation:\n",
              "      spin 1s steps(1) infinite;\n",
              "  }\n",
              "\n",
              "  @keyframes spin {\n",
              "    0% {\n",
              "      border-color: transparent;\n",
              "      border-bottom-color: var(--fill-color);\n",
              "      border-left-color: var(--fill-color);\n",
              "    }\n",
              "    20% {\n",
              "      border-color: transparent;\n",
              "      border-left-color: var(--fill-color);\n",
              "      border-top-color: var(--fill-color);\n",
              "    }\n",
              "    30% {\n",
              "      border-color: transparent;\n",
              "      border-left-color: var(--fill-color);\n",
              "      border-top-color: var(--fill-color);\n",
              "      border-right-color: var(--fill-color);\n",
              "    }\n",
              "    40% {\n",
              "      border-color: transparent;\n",
              "      border-right-color: var(--fill-color);\n",
              "      border-top-color: var(--fill-color);\n",
              "    }\n",
              "    60% {\n",
              "      border-color: transparent;\n",
              "      border-right-color: var(--fill-color);\n",
              "    }\n",
              "    80% {\n",
              "      border-color: transparent;\n",
              "      border-right-color: var(--fill-color);\n",
              "      border-bottom-color: var(--fill-color);\n",
              "    }\n",
              "    90% {\n",
              "      border-color: transparent;\n",
              "      border-bottom-color: var(--fill-color);\n",
              "    }\n",
              "  }\n",
              "</style>\n",
              "\n",
              "  <script>\n",
              "    async function quickchart(key) {\n",
              "      const quickchartButtonEl =\n",
              "        document.querySelector('#' + key + ' button');\n",
              "      quickchartButtonEl.disabled = true;  // To prevent multiple clicks.\n",
              "      quickchartButtonEl.classList.add('colab-df-spinner');\n",
              "      try {\n",
              "        const charts = await google.colab.kernel.invokeFunction(\n",
              "            'suggestCharts', [key], {});\n",
              "      } catch (error) {\n",
              "        console.error('Error during call to suggestCharts:', error);\n",
              "      }\n",
              "      quickchartButtonEl.classList.remove('colab-df-spinner');\n",
              "      quickchartButtonEl.classList.add('colab-df-quickchart-complete');\n",
              "    }\n",
              "    (() => {\n",
              "      let quickchartButtonEl =\n",
              "        document.querySelector('#df-2b013dba-c8a8-4dc5-8e82-253920d5489d button');\n",
              "      quickchartButtonEl.style.display =\n",
              "        google.colab.kernel.accessAllowed ? 'block' : 'none';\n",
              "    })();\n",
              "  </script>\n",
              "</div>\n",
              "\n",
              "    </div>\n",
              "  </div>\n"
            ],
            "application/vnd.google.colaboratory.intrinsic+json": {
              "type": "dataframe",
              "summary": "{\n  \"name\": \"df\",\n  \"rows\": 8,\n  \"fields\": [\n    {\n      \"column\": \"Ventas\",\n      \"properties\": {\n        \"dtype\": \"number\",\n        \"std\": 9727.794689822214,\n        \"min\": 18.0,\n        \"max\": 32855.0,\n        \"samples\": [\n          13307.388888888889,\n          10529.5,\n          18.0\n        ],\n        \"num_unique_values\": 8,\n        \"semantic_type\": \"\",\n        \"description\": \"\"\n      }\n    }\n  ]\n}"
            }
          },
          "metadata": {},
          "execution_count": 7
        }
      ]
    },
    {
      "cell_type": "code",
      "source": [
        "df.shape"
      ],
      "metadata": {
        "colab": {
          "base_uri": "https://localhost:8080/"
        },
        "id": "VA4KXlkzQ2-o",
        "outputId": "74ebcce6-648d-471d-d208-128fe9916d91"
      },
      "execution_count": 8,
      "outputs": [
        {
          "output_type": "execute_result",
          "data": {
            "text/plain": [
              "(18, 4)"
            ]
          },
          "metadata": {},
          "execution_count": 8
        }
      ]
    },
    {
      "cell_type": "code",
      "source": [
        "df.columns"
      ],
      "metadata": {
        "colab": {
          "base_uri": "https://localhost:8080/"
        },
        "id": "u4nOFXrdQ7BX",
        "outputId": "0d731801-0a1d-4190-ae9c-1b6c396e5607"
      },
      "execution_count": 9,
      "outputs": [
        {
          "output_type": "execute_result",
          "data": {
            "text/plain": [
              "Index(['Region', 'Producto', 'Vendedor', 'Ventas'], dtype='object')"
            ]
          },
          "metadata": {},
          "execution_count": 9
        }
      ]
    },
    {
      "cell_type": "code",
      "source": [
        "# Ejercicio 2: calcular el total de ventas por región\n",
        "print('Ejercicio 2: Calcular el total de ventas por región')\n",
        "ventas_region = df.groupby('Region')['Ventas'].sum()\n",
        "print(ventas_region)\n",
        "print('\\n')"
      ],
      "metadata": {
        "colab": {
          "base_uri": "https://localhost:8080/"
        },
        "id": "PM_guxjVQ9wA",
        "outputId": "25e4650b-a4ce-466f-af39-d678b9ffde1b"
      },
      "execution_count": 10,
      "outputs": [
        {
          "output_type": "stream",
          "name": "stdout",
          "text": [
            "Ejercicio 2: Calcular el total de ventas por región\n",
            "Region\n",
            "Central    90295\n",
            "Este       63555\n",
            "Oeste      85683\n",
            "Name: Ventas, dtype: int64\n",
            "\n",
            "\n"
          ]
        }
      ]
    },
    {
      "cell_type": "code",
      "source": [
        "# Ejercicio 3: Filtrar el DataFrame para mostrar solo las ventas de David\n",
        "print('Ejercicio 3: Filtrar el DataFrame para mostrar solo las ventas de David')\n",
        "ventas_david = df[df['Vendedor'] == 'David']\n",
        "print(ventas_david)\n",
        "print('\\n')"
      ],
      "metadata": {
        "id": "0HSRIIz2W7Fs",
        "colab": {
          "base_uri": "https://localhost:8080/"
        },
        "outputId": "f7c91e35-a02d-4679-abf4-5012d83cbe0a"
      },
      "execution_count": 11,
      "outputs": [
        {
          "output_type": "stream",
          "name": "stdout",
          "text": [
            "Ejercicio 3: Filtrar el DataFrame para mostrar solo las ventas de David\n",
            "    Region      Producto Vendedor  Ventas\n",
            "0  Central    Accesorios    David    8287\n",
            "2  Central  Dispositivos    David   11420\n",
            "4  Central      Sistemas    David   20098\n",
            "\n",
            "\n"
          ]
        }
      ]
    },
    {
      "cell_type": "code",
      "source": [
        "# Ejercicio 4: Calcular el promedio de ventas por producto\n",
        "print('Ejercicio 4: Calcular el promedio de ventas por producto')\n",
        "ventas_por_producto = df.groupby('Producto')['Ventas'].mean()\n",
        "print(ventas_por_producto)\n",
        "print('\\n')\n",
        "\n",
        "print('Ejercicio 4: Calcular el promedio de ventas por vendedor')\n",
        "ventas_por_producto = df.groupby('Vendedor')['Ventas'].mean()\n",
        "print(ventas_por_producto)\n",
        "print('\\n')"
      ],
      "metadata": {
        "colab": {
          "base_uri": "https://localhost:8080/"
        },
        "id": "rPT9YT3IKCPz",
        "outputId": "97947042-7885-4a89-9d34-1bbc87f2b45d"
      },
      "execution_count": 12,
      "outputs": [
        {
          "output_type": "stream",
          "name": "stdout",
          "text": [
            "Ejercicio 4: Calcular el promedio de ventas por producto\n",
            "Producto\n",
            "Accesorios       7062.000000\n",
            "Dispositivos    10586.500000\n",
            "Sistemas        22273.666667\n",
            "Name: Ventas, dtype: float64\n",
            "\n",
            "\n",
            "Ejercicio 4: Calcular el promedio de ventas por vendedor\n",
            "Vendedor\n",
            "Ana      11067.333333\n",
            "David    13268.333333\n",
            "Karen    16830.000000\n",
            "Kevin    16103.333333\n",
            "Lucas    10117.666667\n",
            "Sara     12457.666667\n",
            "Name: Ventas, dtype: float64\n",
            "\n",
            "\n"
          ]
        }
      ]
    },
    {
      "cell_type": "code",
      "source": [
        "# Ejercicio 5: Ordenar el DataFrame por ventas en order descendente\n",
        "print('Ejercicio 5: Ordenar el DataFrame por ventas en order descendente')\n",
        "df_ordenado = df.sort_values(by='Ventas', ascending=False)\n",
        "print(df_ordenado)\n",
        "print('\\n')"
      ],
      "metadata": {
        "colab": {
          "base_uri": "https://localhost:8080/"
        },
        "id": "U_L84qmoKy9g",
        "outputId": "31a3cb9b-ab30-4597-f879-bbb6d1fd1b6b"
      },
      "execution_count": 13,
      "outputs": [
        {
          "output_type": "stream",
          "name": "stdout",
          "text": [
            "Ejercicio 5: Ordenar el DataFrame por ventas en order descendente\n",
            "     Region      Producto Vendedor  Ventas\n",
            "16    Oeste      Sistemas    Kevin   32855\n",
            "5   Central      Sistemas    Karen   30633\n",
            "17    Oeste      Sistemas     Sara   23151\n",
            "4   Central      Sistemas    David   20098\n",
            "10     Este      Sistemas      Ana   13531\n",
            "11     Este      Sistemas    Lucas   13374\n",
            "3   Central  Dispositivos    Karen   12948\n",
            "2   Central  Dispositivos    David   11420\n",
            "14    Oeste  Dispositivos    Kevin   10711\n",
            "8      Este  Dispositivos      Ana   10348\n",
            "6      Este    Accesorios      Ana    9323\n",
            "9      Este  Dispositivos    Lucas    9312\n",
            "15    Oeste  Dispositivos     Sara    8780\n",
            "0   Central    Accesorios    David    8287\n",
            "7      Este    Accesorios    Lucas    7667\n",
            "1   Central    Accesorios    Karen    6909\n",
            "13    Oeste    Accesorios     Sara    5442\n",
            "12    Oeste    Accesorios    Kevin    4744\n",
            "\n",
            "\n"
          ]
        }
      ]
    },
    {
      "cell_type": "markdown",
      "source": [
        "#Manipulación de datos#\n",
        "\n",
        "*   Filtrar las filas donde las ventas sean mayores a 1000.\n",
        "*   Ordena el DataFrame por la colmuna 'Ventas' de forma descendente.\n",
        "*   Elimina la columna vendedor.\n",
        "\n"
      ],
      "metadata": {
        "id": "HWKk599yQ560"
      }
    },
    {
      "cell_type": "code",
      "source": [
        "# Ejercicio 6: Filtrar las filas con ventas mayores a 1000\n",
        "print('Ejercicio 6: Filtrar las filas con ventas mayores a 1000')\n",
        "df_filtrado = df[df['Ventas'] > 1000]\n",
        "print(df_filtrado)\n",
        "print('\\n')"
      ],
      "metadata": {
        "colab": {
          "base_uri": "https://localhost:8080/"
        },
        "id": "H1Q9a7I0T92A",
        "outputId": "96944068-bd9b-4d54-a990-0078717ac4ca"
      },
      "execution_count": 14,
      "outputs": [
        {
          "output_type": "stream",
          "name": "stdout",
          "text": [
            "Ejercicio 6: Filtrar las filas con ventas mayores a 1000\n",
            "     Region      Producto Vendedor  Ventas\n",
            "0   Central    Accesorios    David    8287\n",
            "1   Central    Accesorios    Karen    6909\n",
            "2   Central  Dispositivos    David   11420\n",
            "3   Central  Dispositivos    Karen   12948\n",
            "4   Central      Sistemas    David   20098\n",
            "5   Central      Sistemas    Karen   30633\n",
            "6      Este    Accesorios      Ana    9323\n",
            "7      Este    Accesorios    Lucas    7667\n",
            "8      Este  Dispositivos      Ana   10348\n",
            "9      Este  Dispositivos    Lucas    9312\n",
            "10     Este      Sistemas      Ana   13531\n",
            "11     Este      Sistemas    Lucas   13374\n",
            "12    Oeste    Accesorios    Kevin    4744\n",
            "13    Oeste    Accesorios     Sara    5442\n",
            "14    Oeste  Dispositivos    Kevin   10711\n",
            "15    Oeste  Dispositivos     Sara    8780\n",
            "16    Oeste      Sistemas    Kevin   32855\n",
            "17    Oeste      Sistemas     Sara   23151\n",
            "\n",
            "\n"
          ]
        }
      ]
    },
    {
      "cell_type": "code",
      "source": [
        "# Ejercicio 7: Ordenar el DataFrame por ventas en orden descendente\n",
        "print('Ejercicio 7: Ordenar el DataFrame por ventas en orden descendente')\n",
        "df_ordenado = df.sort_values(by= 'Ventas', ascending=False)\n",
        "print(df_ordenado)\n",
        "print('\\n')"
      ],
      "metadata": {
        "id": "kYvXO7VFU1DR",
        "colab": {
          "base_uri": "https://localhost:8080/"
        },
        "outputId": "1429d9c5-8474-4d20-cf70-981d10dc7a22"
      },
      "execution_count": 15,
      "outputs": [
        {
          "output_type": "stream",
          "name": "stdout",
          "text": [
            "Ejercicio 7: Ordenar el DataFrame por ventas en orden descendente\n",
            "     Region      Producto Vendedor  Ventas\n",
            "16    Oeste      Sistemas    Kevin   32855\n",
            "5   Central      Sistemas    Karen   30633\n",
            "17    Oeste      Sistemas     Sara   23151\n",
            "4   Central      Sistemas    David   20098\n",
            "10     Este      Sistemas      Ana   13531\n",
            "11     Este      Sistemas    Lucas   13374\n",
            "3   Central  Dispositivos    Karen   12948\n",
            "2   Central  Dispositivos    David   11420\n",
            "14    Oeste  Dispositivos    Kevin   10711\n",
            "8      Este  Dispositivos      Ana   10348\n",
            "6      Este    Accesorios      Ana    9323\n",
            "9      Este  Dispositivos    Lucas    9312\n",
            "15    Oeste  Dispositivos     Sara    8780\n",
            "0   Central    Accesorios    David    8287\n",
            "7      Este    Accesorios    Lucas    7667\n",
            "1   Central    Accesorios    Karen    6909\n",
            "13    Oeste    Accesorios     Sara    5442\n",
            "12    Oeste    Accesorios    Kevin    4744\n",
            "\n",
            "\n"
          ]
        }
      ]
    },
    {
      "cell_type": "code",
      "source": [
        "# Ejercicio 8: Eliminar columna vendedor\n",
        "print('Ejercicio 8: Eliminar columna vendedor')\n",
        "df_sin_vendedor = df.drop(columns='Vendedor')\n",
        "print(df_sin_vendedor)\n",
        "print('\\n')"
      ],
      "metadata": {
        "id": "p62kUGnDYGUO",
        "colab": {
          "base_uri": "https://localhost:8080/"
        },
        "outputId": "dc85aeef-8f86-48ff-bc3a-10dfe0acb5c3"
      },
      "execution_count": 16,
      "outputs": [
        {
          "output_type": "stream",
          "name": "stdout",
          "text": [
            "Ejercicio 8: Eliminar columna vendedor\n",
            "     Region      Producto  Ventas\n",
            "0   Central    Accesorios    8287\n",
            "1   Central    Accesorios    6909\n",
            "2   Central  Dispositivos   11420\n",
            "3   Central  Dispositivos   12948\n",
            "4   Central      Sistemas   20098\n",
            "5   Central      Sistemas   30633\n",
            "6      Este    Accesorios    9323\n",
            "7      Este    Accesorios    7667\n",
            "8      Este  Dispositivos   10348\n",
            "9      Este  Dispositivos    9312\n",
            "10     Este      Sistemas   13531\n",
            "11     Este      Sistemas   13374\n",
            "12    Oeste    Accesorios    4744\n",
            "13    Oeste    Accesorios    5442\n",
            "14    Oeste  Dispositivos   10711\n",
            "15    Oeste  Dispositivos    8780\n",
            "16    Oeste      Sistemas   32855\n",
            "17    Oeste      Sistemas   23151\n",
            "\n",
            "\n"
          ]
        }
      ]
    },
    {
      "cell_type": "markdown",
      "source": [
        "#Agregación y agrupación#\n",
        "* Calcular el total de ventas por región.\n",
        "* Calcular el total de ventas por producto."
      ],
      "metadata": {
        "id": "Ww5ryCE7YshM"
      }
    },
    {
      "cell_type": "code",
      "source": [
        "# Ejercicio 9: Calcular el total de ventas por región\n",
        "print('Ejercicio 9: Calcular el total de ventas por región')\n",
        "ventas_por_region = df.groupby('Region')['Ventas'].sum()\n",
        "print(ventas_por_region)\n",
        "print('\\n')"
      ],
      "metadata": {
        "id": "uSjIP6auZFHp",
        "colab": {
          "base_uri": "https://localhost:8080/"
        },
        "outputId": "87e3af03-389e-42d8-cc9c-cb3d07f2e97d"
      },
      "execution_count": 19,
      "outputs": [
        {
          "output_type": "stream",
          "name": "stdout",
          "text": [
            "Ejercicio 9: Calcular el total de ventas por región\n",
            "Region\n",
            "Central    90295\n",
            "Este       63555\n",
            "Oeste      85683\n",
            "Name: Ventas, dtype: int64\n",
            "\n",
            "\n"
          ]
        }
      ]
    },
    {
      "cell_type": "code",
      "source": [
        "# Ejercicio 10: Calcular el total de ventas por producto\n",
        "print('Ejercicio 10: Calcular el total de ventas por producto')\n",
        "ventas_por_producto = df.groupby('Producto')['Ventas'].sum()\n",
        "print(ventas_por_producto)\n",
        "print('\\n')"
      ],
      "metadata": {
        "colab": {
          "base_uri": "https://localhost:8080/"
        },
        "id": "RY2PJSMXXYbb",
        "outputId": "72bb6297-0c1a-475d-9a8a-0062cd091ebc"
      },
      "execution_count": 20,
      "outputs": [
        {
          "output_type": "stream",
          "name": "stdout",
          "text": [
            "Ejercicio 10: Calcular el total de ventas por producto\n",
            "Producto\n",
            "Accesorios       42372\n",
            "Dispositivos     63519\n",
            "Sistemas        133642\n",
            "Name: Ventas, dtype: int64\n",
            "\n",
            "\n"
          ]
        }
      ]
    },
    {
      "cell_type": "code",
      "source": [
        "# Crear una DataFrame en PANDAS\n",
        "data = {\n",
        "    'id': [1, 2, 3, 4, 5],\n",
        "    'weigth': [144.5, 167.2, 124.1, 144.5, 133.2],\n",
        "    'name': ['Daniel', 'David', 'Estefania', 'Eusebio', 'Sebastian'],\n",
        "    'age': [33, 45, 23, 33, 54],\n",
        "    'gender': ['M', 'M', 'F', 'M', 'M']\n",
        "}\n",
        "\n",
        "df_creado = pd.DataFrame(data)\n",
        "\n",
        "print(df_creado)"
      ],
      "metadata": {
        "colab": {
          "base_uri": "https://localhost:8080/"
        },
        "id": "BKDcqk47eSgx",
        "outputId": "a983031e-2060-4b19-f011-d8fc2d402b6a"
      },
      "execution_count": null,
      "outputs": [
        {
          "output_type": "stream",
          "name": "stdout",
          "text": [
            "   id  weigth       name  age gender\n",
            "0   1   144.5     Daniel   33      M\n",
            "1   2   167.2      David   45      M\n",
            "2   3   124.1  Estefania   23      F\n",
            "3   4   144.5    Eusebio   33      M\n",
            "4   5   133.2  Sebastian   54      M\n"
          ]
        }
      ]
    }
  ]
}